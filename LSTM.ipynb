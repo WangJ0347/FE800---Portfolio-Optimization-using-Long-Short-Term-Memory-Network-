{
 "cells": [
  {
   "cell_type": "code",
   "execution_count": 1,
   "id": "c847e2dd",
   "metadata": {
    "execution": {
     "iopub.execute_input": "2022-11-07T17:22:26.990791Z",
     "iopub.status.busy": "2022-11-07T17:22:26.990475Z",
     "iopub.status.idle": "2022-11-07T17:22:29.173433Z",
     "shell.execute_reply": "2022-11-07T17:22:29.172308Z"
    },
    "papermill": {
     "duration": 2.195312,
     "end_time": "2022-11-07T17:22:29.176475",
     "exception": false,
     "start_time": "2022-11-07T17:22:26.981163",
     "status": "completed"
    },
    "tags": []
   },
   "outputs": [],
   "source": [
    "import pandas as pd\n",
    "import numpy as np\n",
    "import matplotlib.pyplot as plt\n",
    "import seaborn as sns\n",
    "%matplotlib inline\n",
    "\n",
    "from technical_indicators import TechnicalIndicator\n",
    "\n",
    "from sklearn.decomposition import PCA\n",
    "from sklearn.preprocessing import MinMaxScaler\n",
    "from sklearn.model_selection import train_test_split\n",
    "import quandl\n",
    "quandl.save_key('HtwBLPt3k37yZHTvy15K')"
   ]
  },
  {
   "cell_type": "code",
   "execution_count": 2,
   "id": "d8c27d28",
   "metadata": {
    "execution": {
     "iopub.execute_input": "2022-11-07T17:22:29.196638Z",
     "iopub.status.busy": "2022-11-07T17:22:29.196284Z",
     "iopub.status.idle": "2022-11-07T17:22:29.358031Z",
     "shell.execute_reply": "2022-11-07T17:22:29.356928Z"
    },
    "papermill": {
     "duration": 0.17491,
     "end_time": "2022-11-07T17:22:29.360660",
     "exception": false,
     "start_time": "2022-11-07T17:22:29.185750",
     "status": "completed"
    },
    "tags": []
   },
   "outputs": [],
   "source": [
    "df = pd.read_csv('stockprices1.csv',index_col=0)\n",
    "df['Date'] = pd.to_datetime(df.Date)\n",
    "df['SMA']=0\n",
    "df['RSI']=0\n",
    "df['William%R']=0\n",
    "df['MACD']=0\n",
    "df_close = df[['Date','Index','Adjusted']]\n",
    "df_close = df_close.pivot_table(index = 'Date', columns = 'Index', values = 'Adjusted').dropna(axis=1)"
   ]
  },
  {
   "cell_type": "code",
   "execution_count": 3,
   "id": "80b4f755",
   "metadata": {
    "execution": {
     "iopub.execute_input": "2022-11-07T17:22:29.381290Z",
     "iopub.status.busy": "2022-11-07T17:22:29.380999Z",
     "iopub.status.idle": "2022-11-07T17:22:29.385496Z",
     "shell.execute_reply": "2022-11-07T17:22:29.384516Z"
    },
    "papermill": {
     "duration": 0.015967,
     "end_time": "2022-11-07T17:22:29.387569",
     "exception": false,
     "start_time": "2022-11-07T17:22:29.371602",
     "status": "completed"
    },
    "tags": []
   },
   "outputs": [],
   "source": [
    "#save index \n",
    "dates = df_close.index\n",
    "#stock tickers\n",
    "tickers = df_close.columns"
   ]
  },
  {
   "cell_type": "markdown",
   "id": "48923caa",
   "metadata": {
    "papermill": {
     "duration": 0.008106,
     "end_time": "2022-11-07T17:22:29.428645",
     "exception": false,
     "start_time": "2022-11-07T17:22:29.420539",
     "status": "completed"
    },
    "tags": []
   },
   "source": [
    "## Technical Indicators"
   ]
  },
  {
   "cell_type": "code",
   "execution_count": 4,
   "id": "918dd2d6",
   "metadata": {
    "execution": {
     "iopub.execute_input": "2022-11-07T17:22:29.446854Z",
     "iopub.status.busy": "2022-11-07T17:22:29.446024Z",
     "iopub.status.idle": "2022-11-07T17:22:29.551516Z",
     "shell.execute_reply": "2022-11-07T17:22:29.550446Z"
    },
    "papermill": {
     "duration": 0.11783,
     "end_time": "2022-11-07T17:22:29.554567",
     "exception": false,
     "start_time": "2022-11-07T17:22:29.436737",
     "status": "completed"
    },
    "tags": []
   },
   "outputs": [
    {
     "data": {
      "text/html": [
       "<div>\n",
       "<style scoped>\n",
       "    .dataframe tbody tr th:only-of-type {\n",
       "        vertical-align: middle;\n",
       "    }\n",
       "\n",
       "    .dataframe tbody tr th {\n",
       "        vertical-align: top;\n",
       "    }\n",
       "\n",
       "    .dataframe thead tr th {\n",
       "        text-align: left;\n",
       "    }\n",
       "\n",
       "    .dataframe thead tr:last-of-type th {\n",
       "        text-align: right;\n",
       "    }\n",
       "</style>\n",
       "<table border=\"1\" class=\"dataframe\">\n",
       "  <thead>\n",
       "    <tr>\n",
       "      <th>Index</th>\n",
       "      <th colspan=\"10\" halign=\"left\">AAPL</th>\n",
       "      <th>...</th>\n",
       "      <th colspan=\"10\" halign=\"left\">XOM</th>\n",
       "    </tr>\n",
       "    <tr>\n",
       "      <th></th>\n",
       "      <th>Adjusted</th>\n",
       "      <th>Close</th>\n",
       "      <th>High</th>\n",
       "      <th>Low</th>\n",
       "      <th>MACD</th>\n",
       "      <th>Open</th>\n",
       "      <th>RSI</th>\n",
       "      <th>SMA</th>\n",
       "      <th>Volume</th>\n",
       "      <th>William%R</th>\n",
       "      <th>...</th>\n",
       "      <th>Adjusted</th>\n",
       "      <th>Close</th>\n",
       "      <th>High</th>\n",
       "      <th>Low</th>\n",
       "      <th>MACD</th>\n",
       "      <th>Open</th>\n",
       "      <th>RSI</th>\n",
       "      <th>SMA</th>\n",
       "      <th>Volume</th>\n",
       "      <th>William%R</th>\n",
       "    </tr>\n",
       "    <tr>\n",
       "      <th>Date</th>\n",
       "      <th></th>\n",
       "      <th></th>\n",
       "      <th></th>\n",
       "      <th></th>\n",
       "      <th></th>\n",
       "      <th></th>\n",
       "      <th></th>\n",
       "      <th></th>\n",
       "      <th></th>\n",
       "      <th></th>\n",
       "      <th></th>\n",
       "      <th></th>\n",
       "      <th></th>\n",
       "      <th></th>\n",
       "      <th></th>\n",
       "      <th></th>\n",
       "      <th></th>\n",
       "      <th></th>\n",
       "      <th></th>\n",
       "      <th></th>\n",
       "      <th></th>\n",
       "    </tr>\n",
       "  </thead>\n",
       "  <tbody>\n",
       "    <tr>\n",
       "      <th>2012-11-05</th>\n",
       "      <td>17.903948</td>\n",
       "      <td>20.879286</td>\n",
       "      <td>20.991785</td>\n",
       "      <td>20.628571</td>\n",
       "      <td>0.0</td>\n",
       "      <td>20.840000</td>\n",
       "      <td>0.0</td>\n",
       "      <td>0.0</td>\n",
       "      <td>5.291356e+08</td>\n",
       "      <td>0.0</td>\n",
       "      <td>...</td>\n",
       "      <td>59.446014</td>\n",
       "      <td>90.629997</td>\n",
       "      <td>90.809998</td>\n",
       "      <td>89.699997</td>\n",
       "      <td>0.0</td>\n",
       "      <td>90.040001</td>\n",
       "      <td>0.0</td>\n",
       "      <td>0.0</td>\n",
       "      <td>11222600.0</td>\n",
       "      <td>0.0</td>\n",
       "    </tr>\n",
       "    <tr>\n",
       "      <th>2012-11-06</th>\n",
       "      <td>17.849737</td>\n",
       "      <td>20.816071</td>\n",
       "      <td>21.097857</td>\n",
       "      <td>20.717501</td>\n",
       "      <td>0.0</td>\n",
       "      <td>21.079643</td>\n",
       "      <td>0.0</td>\n",
       "      <td>0.0</td>\n",
       "      <td>3.749172e+08</td>\n",
       "      <td>0.0</td>\n",
       "      <td>...</td>\n",
       "      <td>60.088810</td>\n",
       "      <td>91.610001</td>\n",
       "      <td>92.050003</td>\n",
       "      <td>90.730003</td>\n",
       "      <td>0.0</td>\n",
       "      <td>90.860001</td>\n",
       "      <td>0.0</td>\n",
       "      <td>0.0</td>\n",
       "      <td>12026500.0</td>\n",
       "      <td>0.0</td>\n",
       "    </tr>\n",
       "    <tr>\n",
       "      <th>2012-11-07</th>\n",
       "      <td>17.166759</td>\n",
       "      <td>19.928572</td>\n",
       "      <td>20.519285</td>\n",
       "      <td>19.848213</td>\n",
       "      <td>0.0</td>\n",
       "      <td>20.494286</td>\n",
       "      <td>0.0</td>\n",
       "      <td>0.0</td>\n",
       "      <td>7.936488e+08</td>\n",
       "      <td>0.0</td>\n",
       "      <td>...</td>\n",
       "      <td>58.201141</td>\n",
       "      <td>88.180000</td>\n",
       "      <td>90.239998</td>\n",
       "      <td>87.699997</td>\n",
       "      <td>0.0</td>\n",
       "      <td>90.239998</td>\n",
       "      <td>0.0</td>\n",
       "      <td>0.0</td>\n",
       "      <td>19423500.0</td>\n",
       "      <td>0.0</td>\n",
       "    </tr>\n",
       "    <tr>\n",
       "      <th>2012-11-08</th>\n",
       "      <td>16.543770</td>\n",
       "      <td>19.205357</td>\n",
       "      <td>20.079643</td>\n",
       "      <td>19.117500</td>\n",
       "      <td>0.0</td>\n",
       "      <td>20.022499</td>\n",
       "      <td>0.0</td>\n",
       "      <td>0.0</td>\n",
       "      <td>1.056146e+09</td>\n",
       "      <td>0.0</td>\n",
       "      <td>...</td>\n",
       "      <td>57.468498</td>\n",
       "      <td>87.070000</td>\n",
       "      <td>88.430000</td>\n",
       "      <td>87.029999</td>\n",
       "      <td>0.0</td>\n",
       "      <td>88.269997</td>\n",
       "      <td>0.0</td>\n",
       "      <td>0.0</td>\n",
       "      <td>13743000.0</td>\n",
       "      <td>0.0</td>\n",
       "    </tr>\n",
       "    <tr>\n",
       "      <th>2012-11-09</th>\n",
       "      <td>16.830189</td>\n",
       "      <td>19.537857</td>\n",
       "      <td>19.817142</td>\n",
       "      <td>19.061428</td>\n",
       "      <td>0.0</td>\n",
       "      <td>19.300714</td>\n",
       "      <td>0.0</td>\n",
       "      <td>0.0</td>\n",
       "      <td>9.299136e+08</td>\n",
       "      <td>0.0</td>\n",
       "      <td>...</td>\n",
       "      <td>57.560921</td>\n",
       "      <td>87.209999</td>\n",
       "      <td>87.949997</td>\n",
       "      <td>86.610001</td>\n",
       "      <td>0.0</td>\n",
       "      <td>86.610001</td>\n",
       "      <td>0.0</td>\n",
       "      <td>0.0</td>\n",
       "      <td>13407000.0</td>\n",
       "      <td>0.0</td>\n",
       "    </tr>\n",
       "    <tr>\n",
       "      <th>...</th>\n",
       "      <td>...</td>\n",
       "      <td>...</td>\n",
       "      <td>...</td>\n",
       "      <td>...</td>\n",
       "      <td>...</td>\n",
       "      <td>...</td>\n",
       "      <td>...</td>\n",
       "      <td>...</td>\n",
       "      <td>...</td>\n",
       "      <td>...</td>\n",
       "      <td>...</td>\n",
       "      <td>...</td>\n",
       "      <td>...</td>\n",
       "      <td>...</td>\n",
       "      <td>...</td>\n",
       "      <td>...</td>\n",
       "      <td>...</td>\n",
       "      <td>...</td>\n",
       "      <td>...</td>\n",
       "      <td>...</td>\n",
       "      <td>...</td>\n",
       "    </tr>\n",
       "    <tr>\n",
       "      <th>2022-10-25</th>\n",
       "      <td>152.339996</td>\n",
       "      <td>152.339996</td>\n",
       "      <td>152.490005</td>\n",
       "      <td>149.360001</td>\n",
       "      <td>0.0</td>\n",
       "      <td>150.089996</td>\n",
       "      <td>0.0</td>\n",
       "      <td>0.0</td>\n",
       "      <td>7.473230e+07</td>\n",
       "      <td>0.0</td>\n",
       "      <td>...</td>\n",
       "      <td>105.879997</td>\n",
       "      <td>105.879997</td>\n",
       "      <td>107.330002</td>\n",
       "      <td>105.070000</td>\n",
       "      <td>0.0</td>\n",
       "      <td>106.410004</td>\n",
       "      <td>0.0</td>\n",
       "      <td>0.0</td>\n",
       "      <td>15719800.0</td>\n",
       "      <td>0.0</td>\n",
       "    </tr>\n",
       "    <tr>\n",
       "      <th>2022-10-26</th>\n",
       "      <td>149.350006</td>\n",
       "      <td>149.350006</td>\n",
       "      <td>151.990005</td>\n",
       "      <td>148.039993</td>\n",
       "      <td>0.0</td>\n",
       "      <td>150.960007</td>\n",
       "      <td>0.0</td>\n",
       "      <td>0.0</td>\n",
       "      <td>8.819430e+07</td>\n",
       "      <td>0.0</td>\n",
       "      <td>...</td>\n",
       "      <td>107.139999</td>\n",
       "      <td>107.139999</td>\n",
       "      <td>107.830002</td>\n",
       "      <td>106.000000</td>\n",
       "      <td>0.0</td>\n",
       "      <td>106.260002</td>\n",
       "      <td>0.0</td>\n",
       "      <td>0.0</td>\n",
       "      <td>17383800.0</td>\n",
       "      <td>0.0</td>\n",
       "    </tr>\n",
       "    <tr>\n",
       "      <th>2022-10-27</th>\n",
       "      <td>144.800003</td>\n",
       "      <td>144.800003</td>\n",
       "      <td>149.050003</td>\n",
       "      <td>144.130005</td>\n",
       "      <td>0.0</td>\n",
       "      <td>148.070007</td>\n",
       "      <td>0.0</td>\n",
       "      <td>0.0</td>\n",
       "      <td>1.091802e+08</td>\n",
       "      <td>0.0</td>\n",
       "      <td>...</td>\n",
       "      <td>107.550003</td>\n",
       "      <td>107.550003</td>\n",
       "      <td>109.580002</td>\n",
       "      <td>107.419998</td>\n",
       "      <td>0.0</td>\n",
       "      <td>108.410004</td>\n",
       "      <td>0.0</td>\n",
       "      <td>0.0</td>\n",
       "      <td>18214000.0</td>\n",
       "      <td>0.0</td>\n",
       "    </tr>\n",
       "    <tr>\n",
       "      <th>2022-10-28</th>\n",
       "      <td>155.740005</td>\n",
       "      <td>155.740005</td>\n",
       "      <td>157.500000</td>\n",
       "      <td>147.820007</td>\n",
       "      <td>0.0</td>\n",
       "      <td>148.199997</td>\n",
       "      <td>0.0</td>\n",
       "      <td>0.0</td>\n",
       "      <td>1.646591e+08</td>\n",
       "      <td>0.0</td>\n",
       "      <td>...</td>\n",
       "      <td>110.699997</td>\n",
       "      <td>110.699997</td>\n",
       "      <td>111.209999</td>\n",
       "      <td>108.120003</td>\n",
       "      <td>0.0</td>\n",
       "      <td>109.459999</td>\n",
       "      <td>0.0</td>\n",
       "      <td>0.0</td>\n",
       "      <td>28158200.0</td>\n",
       "      <td>0.0</td>\n",
       "    </tr>\n",
       "    <tr>\n",
       "      <th>2022-10-31</th>\n",
       "      <td>153.339996</td>\n",
       "      <td>153.339996</td>\n",
       "      <td>154.240005</td>\n",
       "      <td>151.919998</td>\n",
       "      <td>0.0</td>\n",
       "      <td>153.160004</td>\n",
       "      <td>0.0</td>\n",
       "      <td>0.0</td>\n",
       "      <td>9.784890e+07</td>\n",
       "      <td>0.0</td>\n",
       "      <td>...</td>\n",
       "      <td>110.809998</td>\n",
       "      <td>110.809998</td>\n",
       "      <td>112.910004</td>\n",
       "      <td>109.440002</td>\n",
       "      <td>0.0</td>\n",
       "      <td>109.500000</td>\n",
       "      <td>0.0</td>\n",
       "      <td>0.0</td>\n",
       "      <td>26392300.0</td>\n",
       "      <td>0.0</td>\n",
       "    </tr>\n",
       "  </tbody>\n",
       "</table>\n",
       "<p>2515 rows × 100 columns</p>\n",
       "</div>"
      ],
      "text/plain": [
       "Index             AAPL                                                       \\\n",
       "              Adjusted       Close        High         Low MACD        Open   \n",
       "Date                                                                          \n",
       "2012-11-05   17.903948   20.879286   20.991785   20.628571  0.0   20.840000   \n",
       "2012-11-06   17.849737   20.816071   21.097857   20.717501  0.0   21.079643   \n",
       "2012-11-07   17.166759   19.928572   20.519285   19.848213  0.0   20.494286   \n",
       "2012-11-08   16.543770   19.205357   20.079643   19.117500  0.0   20.022499   \n",
       "2012-11-09   16.830189   19.537857   19.817142   19.061428  0.0   19.300714   \n",
       "...                ...         ...         ...         ...  ...         ...   \n",
       "2022-10-25  152.339996  152.339996  152.490005  149.360001  0.0  150.089996   \n",
       "2022-10-26  149.350006  149.350006  151.990005  148.039993  0.0  150.960007   \n",
       "2022-10-27  144.800003  144.800003  149.050003  144.130005  0.0  148.070007   \n",
       "2022-10-28  155.740005  155.740005  157.500000  147.820007  0.0  148.199997   \n",
       "2022-10-31  153.339996  153.339996  154.240005  151.919998  0.0  153.160004   \n",
       "\n",
       "Index                                         ...         XOM              \\\n",
       "            RSI  SMA        Volume William%R  ...    Adjusted       Close   \n",
       "Date                                          ...                           \n",
       "2012-11-05  0.0  0.0  5.291356e+08       0.0  ...   59.446014   90.629997   \n",
       "2012-11-06  0.0  0.0  3.749172e+08       0.0  ...   60.088810   91.610001   \n",
       "2012-11-07  0.0  0.0  7.936488e+08       0.0  ...   58.201141   88.180000   \n",
       "2012-11-08  0.0  0.0  1.056146e+09       0.0  ...   57.468498   87.070000   \n",
       "2012-11-09  0.0  0.0  9.299136e+08       0.0  ...   57.560921   87.209999   \n",
       "...         ...  ...           ...       ...  ...         ...         ...   \n",
       "2022-10-25  0.0  0.0  7.473230e+07       0.0  ...  105.879997  105.879997   \n",
       "2022-10-26  0.0  0.0  8.819430e+07       0.0  ...  107.139999  107.139999   \n",
       "2022-10-27  0.0  0.0  1.091802e+08       0.0  ...  107.550003  107.550003   \n",
       "2022-10-28  0.0  0.0  1.646591e+08       0.0  ...  110.699997  110.699997   \n",
       "2022-10-31  0.0  0.0  9.784890e+07       0.0  ...  110.809998  110.809998   \n",
       "\n",
       "Index                                                                      \\\n",
       "                  High         Low MACD        Open  RSI  SMA      Volume   \n",
       "Date                                                                        \n",
       "2012-11-05   90.809998   89.699997  0.0   90.040001  0.0  0.0  11222600.0   \n",
       "2012-11-06   92.050003   90.730003  0.0   90.860001  0.0  0.0  12026500.0   \n",
       "2012-11-07   90.239998   87.699997  0.0   90.239998  0.0  0.0  19423500.0   \n",
       "2012-11-08   88.430000   87.029999  0.0   88.269997  0.0  0.0  13743000.0   \n",
       "2012-11-09   87.949997   86.610001  0.0   86.610001  0.0  0.0  13407000.0   \n",
       "...                ...         ...  ...         ...  ...  ...         ...   \n",
       "2022-10-25  107.330002  105.070000  0.0  106.410004  0.0  0.0  15719800.0   \n",
       "2022-10-26  107.830002  106.000000  0.0  106.260002  0.0  0.0  17383800.0   \n",
       "2022-10-27  109.580002  107.419998  0.0  108.410004  0.0  0.0  18214000.0   \n",
       "2022-10-28  111.209999  108.120003  0.0  109.459999  0.0  0.0  28158200.0   \n",
       "2022-10-31  112.910004  109.440002  0.0  109.500000  0.0  0.0  26392300.0   \n",
       "\n",
       "Index                 \n",
       "           William%R  \n",
       "Date                  \n",
       "2012-11-05       0.0  \n",
       "2012-11-06       0.0  \n",
       "2012-11-07       0.0  \n",
       "2012-11-08       0.0  \n",
       "2012-11-09       0.0  \n",
       "...              ...  \n",
       "2022-10-25       0.0  \n",
       "2022-10-26       0.0  \n",
       "2022-10-27       0.0  \n",
       "2022-10-28       0.0  \n",
       "2022-10-31       0.0  \n",
       "\n",
       "[2515 rows x 100 columns]"
      ]
     },
     "execution_count": 4,
     "metadata": {},
     "output_type": "execute_result"
    }
   ],
   "source": [
    "df_raw = df.set_index(['Date','Index']).unstack(level=1).stack(level=0).unstack()\n",
    "df_raw.dropna(axis=1)"
   ]
  },
  {
   "cell_type": "code",
   "execution_count": 5,
   "id": "58e04f47",
   "metadata": {
    "execution": {
     "iopub.execute_input": "2022-11-07T17:22:29.573271Z",
     "iopub.status.busy": "2022-11-07T17:22:29.572991Z",
     "iopub.status.idle": "2022-11-07T17:22:40.010372Z",
     "shell.execute_reply": "2022-11-07T17:22:40.009338Z"
    },
    "papermill": {
     "duration": 10.449551,
     "end_time": "2022-11-07T17:22:40.013013",
     "exception": false,
     "start_time": "2022-11-07T17:22:29.563462",
     "status": "completed"
    },
    "tags": []
   },
   "outputs": [],
   "source": [
    "ti = TechnicalIndicator()\n",
    "for i in tickers:\n",
    "    #simple moving average\n",
    "    df_raw.loc[:,(i,'SMA')]=ti.sma(df_raw[i])['SMA']\n",
    "    #relative strength index\n",
    "    df_raw.loc[:,(i,'RSI')]=ti.relative_strength_index(df_raw[i])['RSI']\n",
    "    #William's Oscillator (William%R)\n",
    "    df_raw.loc[:,(i,'William%R')]=ti.william_r(df_raw[i])['William%R']\n",
    "    #Moving Average Convergence/Divergence\n",
    "    df_raw.loc[:,(i,'MACD')]=ti.macd(df_raw[i])['MACD']"
   ]
  },
  {
   "cell_type": "markdown",
   "id": "7a824627",
   "metadata": {
    "papermill": {
     "duration": 0.008792,
     "end_time": "2022-11-07T17:22:40.030987",
     "exception": false,
     "start_time": "2022-11-07T17:22:40.022195",
     "status": "completed"
    },
    "tags": []
   },
   "source": [
    "# Additional factors"
   ]
  },
  {
   "cell_type": "code",
   "execution_count": null,
   "id": "2e0194b5",
   "metadata": {
    "execution": {
     "iopub.execute_input": "2022-11-07T17:22:40.049613Z",
     "iopub.status.busy": "2022-11-07T17:22:40.049295Z",
     "iopub.status.idle": "2022-11-07T17:22:44.515883Z",
     "shell.execute_reply": "2022-11-07T17:22:44.514812Z"
    },
    "papermill": {
     "duration": 4.479066,
     "end_time": "2022-11-07T17:22:44.518761",
     "exception": false,
     "start_time": "2022-11-07T17:22:40.039695",
     "status": "completed"
    },
    "tags": []
   },
   "outputs": [],
   "source": [
    "end_date = \"2022-11-01\"\n",
    "start_date = \"2012-11-03\"\n",
    "\n",
    "# Extracting additional factors:\n",
    "new_tickers = ['EIA/PET_RWTC_D','FRED/T10Y2Y','FRED/T10Y3M','FRED/DTB3','FRED/DLTIIT',\n",
    "               'FRED/TEDRATE']\n",
    "names = ['wti_spot','10y2y_spread','10y3m_spread','3m_rate','ltiit','ted_spread']\n",
    "add_factors = quandl.get(new_tickers, start_date=start_date, end_date=end_date,\n",
    "                       api_key=quandl.ApiConfig.api_key)\n",
    "add_factors.columns = names\n",
    "add_factors['var_wti'] = add_factors['wti_spot'].pct_change()\n",
    "\n",
    "# Fill NaN values:\n",
    "add_factors.fillna(method='ffill',inplace=True)\n",
    "add_factors.fillna(method='bfill',inplace=True)"
   ]
  },
  {
   "cell_type": "code",
   "execution_count": null,
   "id": "34a30963",
   "metadata": {
    "execution": {
     "iopub.execute_input": "2022-11-07T17:22:44.539253Z",
     "iopub.status.busy": "2022-11-07T17:22:44.538874Z",
     "iopub.status.idle": "2022-11-07T17:22:44.571055Z",
     "shell.execute_reply": "2022-11-07T17:22:44.569979Z"
    },
    "papermill": {
     "duration": 0.045484,
     "end_time": "2022-11-07T17:22:44.573999",
     "exception": false,
     "start_time": "2022-11-07T17:22:44.528515",
     "status": "completed"
    },
    "tags": []
   },
   "outputs": [],
   "source": [
    "# Merge dataframes to get the full data for modeling:\n",
    "df_raw = df_raw.merge(add_factors,right_index=True,left_index=True,how='left')\n",
    "#drop NA rows\n",
    "full_feature_df = df_raw.dropna(axis=0)\n",
    "print(full_feature_df.head())\n",
    "dates_new = full_feature_df.index"
   ]
  },
  {
   "cell_type": "markdown",
   "id": "cd714a96",
   "metadata": {
    "papermill": {
     "duration": 0.009033,
     "end_time": "2022-11-07T17:22:44.593255",
     "exception": false,
     "start_time": "2022-11-07T17:22:44.584222",
     "status": "completed"
    },
    "tags": []
   },
   "source": [
    "## Dimension Reduction & Data Split"
   ]
  },
  {
   "cell_type": "code",
   "execution_count": null,
   "id": "450becb0",
   "metadata": {
    "execution": {
     "iopub.execute_input": "2022-11-07T17:22:44.612823Z",
     "iopub.status.busy": "2022-11-07T17:22:44.611875Z",
     "iopub.status.idle": "2022-11-07T17:22:44.616971Z",
     "shell.execute_reply": "2022-11-07T17:22:44.615944Z"
    },
    "papermill": {
     "duration": 0.016885,
     "end_time": "2022-11-07T17:22:44.619147",
     "exception": false,
     "start_time": "2022-11-07T17:22:44.602262",
     "status": "completed"
    },
    "tags": []
   },
   "outputs": [],
   "source": [
    "full_feature_df = full_feature_df.to_numpy()"
   ]
  },
  {
   "cell_type": "code",
   "execution_count": null,
   "id": "f665c359",
   "metadata": {
    "execution": {
     "iopub.execute_input": "2022-11-07T17:22:44.638617Z",
     "iopub.status.busy": "2022-11-07T17:22:44.638345Z",
     "iopub.status.idle": "2022-11-07T17:22:44.646932Z",
     "shell.execute_reply": "2022-11-07T17:22:44.645939Z"
    },
    "papermill": {
     "duration": 0.020808,
     "end_time": "2022-11-07T17:22:44.649028",
     "exception": false,
     "start_time": "2022-11-07T17:22:44.628220",
     "status": "completed"
    },
    "tags": []
   },
   "outputs": [],
   "source": [
    "closing_prices = df_close.loc[dates_new,:].to_numpy()\n",
    "closing_prices"
   ]
  },
  {
   "cell_type": "markdown",
   "id": "dc1042e5",
   "metadata": {
    "papermill": {
     "duration": 0.008434,
     "end_time": "2022-11-07T17:22:44.666210",
     "exception": false,
     "start_time": "2022-11-07T17:22:44.657776",
     "status": "completed"
    },
    "tags": []
   },
   "source": [
    "Scale data"
   ]
  },
  {
   "cell_type": "code",
   "execution_count": null,
   "id": "56dae81b",
   "metadata": {
    "execution": {
     "iopub.execute_input": "2022-11-07T17:22:44.685024Z",
     "iopub.status.busy": "2022-11-07T17:22:44.684261Z",
     "iopub.status.idle": "2022-11-07T17:22:44.692648Z",
     "shell.execute_reply": "2022-11-07T17:22:44.691645Z"
    },
    "papermill": {
     "duration": 0.019737,
     "end_time": "2022-11-07T17:22:44.694600",
     "exception": false,
     "start_time": "2022-11-07T17:22:44.674863",
     "status": "completed"
    },
    "tags": []
   },
   "outputs": [],
   "source": [
    "#closing prices dataset\n",
    "scl = MinMaxScaler()\n",
    "scl_y = MinMaxScaler()\n",
    "\n",
    "full_feature_df = scl.fit_transform(full_feature_df)\n",
    "closing_prices = scl_y.fit_transform(closing_prices)"
   ]
  },
  {
   "cell_type": "markdown",
   "id": "f48c59be",
   "metadata": {
    "papermill": {
     "duration": 0.008449,
     "end_time": "2022-11-07T17:22:44.712122",
     "exception": false,
     "start_time": "2022-11-07T17:22:44.703673",
     "status": "completed"
    },
    "tags": []
   },
   "source": [
    "Train & test sets"
   ]
  },
  {
   "cell_type": "code",
   "execution_count": null,
   "id": "2ee82bea",
   "metadata": {
    "execution": {
     "iopub.execute_input": "2022-11-07T17:22:44.732462Z",
     "iopub.status.busy": "2022-11-07T17:22:44.730843Z",
     "iopub.status.idle": "2022-11-07T17:22:44.737307Z",
     "shell.execute_reply": "2022-11-07T17:22:44.736457Z"
    },
    "papermill": {
     "duration": 0.01811,
     "end_time": "2022-11-07T17:22:44.739181",
     "exception": false,
     "start_time": "2022-11-07T17:22:44.721071",
     "status": "completed"
    },
    "tags": []
   },
   "outputs": [],
   "source": [
    "#We use the approximate ratio of 70-15-15 to split the data for each stock in training, validation, and testing data\n",
    "close_train, close_test = train_test_split(closing_prices, shuffle=False, test_size = .2)\n",
    "feature_train, feature_test = train_test_split(full_feature_df, shuffle=False,test_size=.2)"
   ]
  },
  {
   "cell_type": "markdown",
   "id": "ef297dac",
   "metadata": {
    "papermill": {
     "duration": 0.008487,
     "end_time": "2022-11-07T17:22:44.756274",
     "exception": false,
     "start_time": "2022-11-07T17:22:44.747787",
     "status": "completed"
    },
    "tags": []
   },
   "source": [
    "Find optimal number of PCA components"
   ]
  },
  {
   "cell_type": "code",
   "execution_count": null,
   "id": "b6366435",
   "metadata": {
    "execution": {
     "iopub.execute_input": "2022-11-07T17:22:44.775290Z",
     "iopub.status.busy": "2022-11-07T17:22:44.775037Z",
     "iopub.status.idle": "2022-11-07T17:22:44.778482Z",
     "shell.execute_reply": "2022-11-07T17:22:44.777620Z"
    },
    "papermill": {
     "duration": 0.015042,
     "end_time": "2022-11-07T17:22:44.780431",
     "exception": false,
     "start_time": "2022-11-07T17:22:44.765389",
     "status": "completed"
    },
    "tags": []
   },
   "outputs": [],
   "source": [
    "# pca = PCA()\n",
    "# temp = pca.fit_transform(feature_train)"
   ]
  },
  {
   "cell_type": "markdown",
   "id": "4d2c66e3",
   "metadata": {
    "papermill": {
     "duration": 0.008611,
     "end_time": "2022-11-07T17:22:44.798324",
     "exception": false,
     "start_time": "2022-11-07T17:22:44.789713",
     "status": "completed"
    },
    "tags": []
   },
   "source": [
    "Almost data is explained by 12 components"
   ]
  },
  {
   "cell_type": "code",
   "execution_count": null,
   "id": "86232bb2",
   "metadata": {
    "execution": {
     "iopub.execute_input": "2022-11-07T17:22:44.817201Z",
     "iopub.status.busy": "2022-11-07T17:22:44.816572Z",
     "iopub.status.idle": "2022-11-07T17:22:44.821000Z",
     "shell.execute_reply": "2022-11-07T17:22:44.820178Z"
    },
    "papermill": {
     "duration": 0.015766,
     "end_time": "2022-11-07T17:22:44.822989",
     "exception": false,
     "start_time": "2022-11-07T17:22:44.807223",
     "status": "completed"
    },
    "tags": []
   },
   "outputs": [],
   "source": [
    "# plt.plot(np.cumsum(pca.explained_variance_ratio_))\n",
    "# plt.xlabel('Num Components')\n",
    "# plt.ylabel('Cumulative Explained Variance')"
   ]
  },
  {
   "cell_type": "markdown",
   "id": "4450f6c9",
   "metadata": {
    "papermill": {
     "duration": 0.00863,
     "end_time": "2022-11-07T17:22:44.840012",
     "exception": false,
     "start_time": "2022-11-07T17:22:44.831382",
     "status": "completed"
    },
    "tags": []
   },
   "source": [
    "Scaling data"
   ]
  },
  {
   "cell_type": "code",
   "execution_count": null,
   "id": "558988c4",
   "metadata": {
    "execution": {
     "iopub.execute_input": "2022-11-07T17:22:44.859004Z",
     "iopub.status.busy": "2022-11-07T17:22:44.858148Z",
     "iopub.status.idle": "2022-11-07T17:22:44.862425Z",
     "shell.execute_reply": "2022-11-07T17:22:44.861609Z"
    },
    "papermill": {
     "duration": 0.015868,
     "end_time": "2022-11-07T17:22:44.864398",
     "exception": false,
     "start_time": "2022-11-07T17:22:44.848530",
     "status": "completed"
    },
    "tags": []
   },
   "outputs": [],
   "source": [
    "# #closing prices dataset\n",
    "# scl = MinMaxScaler()\n",
    "\n",
    "# feature_train = scl.fit_transform(feature_train)\n",
    "\n",
    "# feature_test = scl.fit_transform(feature_test)\n",
    "# # feature_test = pcaTest.fit_transform(feature_test)"
   ]
  },
  {
   "cell_type": "code",
   "execution_count": null,
   "id": "3db0c9be",
   "metadata": {
    "execution": {
     "iopub.execute_input": "2022-11-07T17:22:44.882950Z",
     "iopub.status.busy": "2022-11-07T17:22:44.882179Z",
     "iopub.status.idle": "2022-11-07T17:22:44.888719Z",
     "shell.execute_reply": "2022-11-07T17:22:44.887902Z"
    },
    "papermill": {
     "duration": 0.017807,
     "end_time": "2022-11-07T17:22:44.890645",
     "exception": false,
     "start_time": "2022-11-07T17:22:44.872838",
     "status": "completed"
    },
    "tags": []
   },
   "outputs": [],
   "source": [
    "def WindowGenerator(data, lookback = 22, horizon = 5, jump = 1):\n",
    "    \"\"\"This function converts an array of consecutive inputs to a window of\n",
    "    inputs and a window of labels.\n",
    "    lookback: How many days of the past can the model see\n",
    "    horizon: How many days into the future to predict\n",
    "    \"\"\"\n",
    "    X, y = [],[]\n",
    "    for i in range(0, len(data)-lookback-horizon+1, jump):\n",
    "        X.append(data[i:(i+lookback)])\n",
    "        y.append(data[(i+lookback):(i+lookback+horizon)])\n",
    "    \n",
    "    return np.array(X), np.array(y)"
   ]
  },
  {
   "cell_type": "markdown",
   "id": "53960549",
   "metadata": {
    "papermill": {
     "duration": 0.008542,
     "end_time": "2022-11-07T17:22:44.907751",
     "exception": false,
     "start_time": "2022-11-07T17:22:44.899209",
     "status": "completed"
    },
    "tags": []
   },
   "source": [
    "Further split the train data into training and validation sets"
   ]
  },
  {
   "cell_type": "code",
   "execution_count": null,
   "id": "35cd18ba",
   "metadata": {
    "execution": {
     "iopub.execute_input": "2022-11-07T17:22:44.926379Z",
     "iopub.status.busy": "2022-11-07T17:22:44.925624Z",
     "iopub.status.idle": "2022-11-07T17:22:44.956858Z",
     "shell.execute_reply": "2022-11-07T17:22:44.955952Z"
    },
    "papermill": {
     "duration": 0.042668,
     "end_time": "2022-11-07T17:22:44.958996",
     "exception": false,
     "start_time": "2022-11-07T17:22:44.916328",
     "status": "completed"
    },
    "tags": []
   },
   "outputs": [],
   "source": [
    "#format lookback data and forward data for training, and testing dataset to calculate accuracy\n",
    "lookback = 20\n",
    "horizon = 1 \n",
    "\n",
    "#Testing data\n",
    "X_test, void = WindowGenerator(feature_test, lookback = lookback, horizon = horizon, jump = horizon)\n",
    "void, y_test = WindowGenerator(close_test, lookback = lookback, horizon = horizon, jump = horizon)\n",
    "#flatten y\n",
    "y_test = np.array([list(a.ravel()) for a in y_test])\n",
    "\n",
    "#Training/Validation data\n",
    "X, void = WindowGenerator(feature_train,lookback = lookback, horizon = horizon, jump = 1)\n",
    "void, y = WindowGenerator(close_train, lookback = lookback, horizon = horizon, jump = 1)\n",
    "y = np.array([list(a.ravel()) for a in y])\n",
    "\n",
    "#split training dataset into training and validation sets\n",
    "X_train, X_validate, y_train, y_validate = train_test_split(X, y, test_size=0.2, random_state=1)"
   ]
  },
  {
   "cell_type": "code",
   "execution_count": null,
   "id": "abaff8e8",
   "metadata": {
    "execution": {
     "iopub.execute_input": "2022-11-07T17:22:44.979356Z",
     "iopub.status.busy": "2022-11-07T17:22:44.978514Z",
     "iopub.status.idle": "2022-11-07T17:22:44.985577Z",
     "shell.execute_reply": "2022-11-07T17:22:44.983880Z"
    },
    "papermill": {
     "duration": 0.01996,
     "end_time": "2022-11-07T17:22:44.988307",
     "exception": false,
     "start_time": "2022-11-07T17:22:44.968347",
     "status": "completed"
    },
    "tags": []
   },
   "outputs": [],
   "source": [
    "print(X_train.shape)\n",
    "print(X_validate.shape)\n",
    "print(X_test.shape)\n",
    "print(y_train.shape)\n",
    "print(y_validate.shape)\n",
    "print(y_test.shape)"
   ]
  },
  {
   "cell_type": "markdown",
   "id": "1a65e9f7",
   "metadata": {
    "papermill": {
     "duration": 0.009055,
     "end_time": "2022-11-07T17:22:45.006845",
     "exception": false,
     "start_time": "2022-11-07T17:22:44.997790",
     "status": "completed"
    },
    "tags": []
   },
   "source": [
    "# Hyperparameters tuning"
   ]
  },
  {
   "cell_type": "code",
   "execution_count": null,
   "id": "52084294",
   "metadata": {
    "execution": {
     "iopub.execute_input": "2022-11-07T17:22:45.027815Z",
     "iopub.status.busy": "2022-11-07T17:22:45.027532Z",
     "iopub.status.idle": "2022-11-07T17:22:55.348581Z",
     "shell.execute_reply": "2022-11-07T17:22:55.347559Z"
    },
    "papermill": {
     "duration": 10.335352,
     "end_time": "2022-11-07T17:22:55.351225",
     "exception": false,
     "start_time": "2022-11-07T17:22:45.015873",
     "status": "completed"
    },
    "tags": []
   },
   "outputs": [],
   "source": [
    "from tensorflow.keras.layers import Dense, LSTM, BatchNormalization\n",
    "from tensorflow.keras.models import Model, Sequential\n",
    "from tensorflow.keras.callbacks import ModelCheckpoint\n",
    "from tensorflow.keras.models import load_model\n",
    "import tensorflow as tf\n",
    "from keras import optimizers\n",
    "from tensorflow.keras.wrappers.scikit_learn import KerasRegressor\n",
    "from sklearn.model_selection import RandomizedSearchCV, KFold"
   ]
  },
  {
   "cell_type": "code",
   "execution_count": null,
   "id": "f34f0b08",
   "metadata": {
    "execution": {
     "iopub.execute_input": "2022-11-07T17:22:55.374154Z",
     "iopub.status.busy": "2022-11-07T17:22:55.372091Z",
     "iopub.status.idle": "2022-11-07T17:22:55.378083Z",
     "shell.execute_reply": "2022-11-07T17:22:55.377152Z"
    },
    "papermill": {
     "duration": 0.018885,
     "end_time": "2022-11-07T17:22:55.380173",
     "exception": false,
     "start_time": "2022-11-07T17:22:55.361288",
     "status": "completed"
    },
    "tags": []
   },
   "outputs": [],
   "source": [
    "# #preparing a model for tuning\n",
    "# def create_model(learning_rate, num_neurons_L1, num_neurons_L2, num_features = 107, horizon = 5, lookback = 22):\n",
    "#     #create an Adam optimizer with the given learning rate\n",
    "#     opt = tf.keras.optimizers.Adam(learning_rate = learning_rate)\n",
    "    \n",
    "#     #create a model\n",
    "#     model = Sequential()\n",
    "    \n",
    "#     model.add(BatchNormalization(input_shape=(lookback,num_features)))\n",
    "#     model.add(LSTM(num_neurons_L1,return_sequences=True, name='LSTM_1'))\n",
    "# #     model.add(BatchNormalization())\n",
    "#     model.add(LSTM(num_neurons_L2,input_shape=(num_neurons_L1,1),name='LSTM_2'))\n",
    "# #     model.add(BatchNormalization(momentum=0.8))\n",
    "#     model.add(Dense(horizon*10, activation = 'relu',name='Dense_1'))\n",
    "#     model.add(Dense(horizon*10,name='Returns'))\n",
    "    \n",
    "#     # Compile model with optimizer, loss, and metrics\n",
    "#     model.compile(loss=tf.keras.losses.Huber(), optimizer=opt, metrics = [tf.metrics.RootMeanSquaredError()])\n",
    "    \n",
    "#     return model"
   ]
  },
  {
   "cell_type": "code",
   "execution_count": null,
   "id": "96e3eea6",
   "metadata": {
    "execution": {
     "iopub.execute_input": "2022-11-07T17:22:55.401069Z",
     "iopub.status.busy": "2022-11-07T17:22:55.400128Z",
     "iopub.status.idle": "2022-11-07T17:22:55.404998Z",
     "shell.execute_reply": "2022-11-07T17:22:55.404059Z"
    },
    "papermill": {
     "duration": 0.01715,
     "end_time": "2022-11-07T17:22:55.406938",
     "exception": false,
     "start_time": "2022-11-07T17:22:55.389788",
     "status": "completed"
    },
    "tags": []
   },
   "outputs": [],
   "source": [
    "# # Create a KerasClassifier\n",
    "# model = KerasRegressor(build_fn = create_model)\n",
    "\n",
    "# # Define the parameters to try out\n",
    "# params = {'num_neurons_L1':list(range(100,1100,100)),\n",
    "#          'num_neurons_L2':list(range(100,1100,100)),\n",
    "#           'epochs':[100],\n",
    "#          'learning_rate':[0.01, 0.001],\n",
    "#          'batch_size':[32,64,128, 256]}"
   ]
  },
  {
   "cell_type": "code",
   "execution_count": null,
   "id": "2f073cce",
   "metadata": {
    "execution": {
     "iopub.execute_input": "2022-11-07T17:22:55.427340Z",
     "iopub.status.busy": "2022-11-07T17:22:55.426522Z",
     "iopub.status.idle": "2022-11-07T17:22:55.431672Z",
     "shell.execute_reply": "2022-11-07T17:22:55.430756Z"
    },
    "papermill": {
     "duration": 0.017336,
     "end_time": "2022-11-07T17:22:55.433744",
     "exception": false,
     "start_time": "2022-11-07T17:22:55.416408",
     "status": "completed"
    },
    "tags": []
   },
   "outputs": [],
   "source": [
    "# # Create a randomize search cv object passing in the parameters to try\n",
    "# random_search = RandomizedSearchCV(model, param_distributions = params, cv = KFold(5),n_iter=60)\n",
    "# random_search_results = random_search.fit(X_train,y_train)\n",
    "\n",
    "# #print result\n",
    "# print(f\"Best: {random_search_results.best_score_} using {random_search_results.best_params_}\")"
   ]
  },
  {
   "cell_type": "markdown",
   "id": "fe5b2f5d",
   "metadata": {
    "papermill": {
     "duration": 0.008797,
     "end_time": "2022-11-07T17:22:55.452360",
     "exception": false,
     "start_time": "2022-11-07T17:22:55.443563",
     "status": "completed"
    },
    "tags": []
   },
   "source": [
    "Best: -0.00017258132866118103 using {'num_neurons_L2': 300, 'num_neurons_L1': 900, 'learning_rate': 0.001, 'epochs': 100, 'batch_size': 256}"
   ]
  },
  {
   "cell_type": "code",
   "execution_count": null,
   "id": "0b3bc111",
   "metadata": {
    "execution": {
     "iopub.execute_input": "2022-11-07T17:22:55.472125Z",
     "iopub.status.busy": "2022-11-07T17:22:55.471297Z",
     "iopub.status.idle": "2022-11-07T17:22:55.476736Z",
     "shell.execute_reply": "2022-11-07T17:22:55.475865Z"
    },
    "papermill": {
     "duration": 0.017279,
     "end_time": "2022-11-07T17:22:55.478723",
     "exception": false,
     "start_time": "2022-11-07T17:22:55.461444",
     "status": "completed"
    },
    "tags": []
   },
   "outputs": [],
   "source": [
    "#Model Architecture - Two LSTM layers with x neurons & y epochs\n",
    "n_stocks = 10\n",
    "num_features = full_feature_df.shape[1]\n",
    "#Model Architecture - Two LSTM layers with x neurons & y epochs\n",
    "num_neurons_L1 = 512\n",
    "num_neurons_L2 = 512\n",
    "EPOCHS = 100"
   ]
  },
  {
   "cell_type": "code",
   "execution_count": null,
   "id": "60512dc8",
   "metadata": {
    "execution": {
     "iopub.execute_input": "2022-11-07T17:22:55.498655Z",
     "iopub.status.busy": "2022-11-07T17:22:55.498381Z",
     "iopub.status.idle": "2022-11-07T17:23:50.576836Z",
     "shell.execute_reply": "2022-11-07T17:23:50.574984Z"
    },
    "papermill": {
     "duration": 55.091414,
     "end_time": "2022-11-07T17:23:50.579829",
     "exception": false,
     "start_time": "2022-11-07T17:22:55.488415",
     "status": "completed"
    },
    "tags": []
   },
   "outputs": [],
   "source": [
    "# # Model architecture creation:\n",
    "# model = Sequential([\n",
    "#     BatchNormalization(\n",
    "#         input_shape = (lookback,num_features),\n",
    "#         name = 'Batch_Norm_1'),\n",
    "#     LSTM(512,return_sequences=True,name='LSTM_1'),\n",
    "# #    BatchNormalization(),\n",
    "#     LSTM(512,name='LSTM_2'),\n",
    "# #    BatchNormalization(momentum=0.8),\n",
    "#     Dense(256,activation='relu',name='Dense_1'),\n",
    "#     Dense(horizon*n_stocks,name='Returns')\n",
    "# ])\n",
    "\n",
    "# # # Learning Rate Schedule: used to decide the learning rate:\n",
    "# # lr_schedule = tf.keras.callbacks.LearningRateScheduler(\n",
    "# #                 lambda epoch: 1e-8*10**(epoch/20))\n",
    "\n",
    "# # Checkpoint callback to save the model:\n",
    "# checkpont_rnn = ModelCheckpoint(\n",
    "#     filepath='model_rnn',\n",
    "#     save_weights_only=False,\n",
    "#     save_freq = 'epoch',\n",
    "#     monitor = 'val_loss',\n",
    "#     save_best_only = True,\n",
    "#     verbose = 0)\n",
    "\n",
    "# # Define optimizer\n",
    "# optimizer = tf.keras.optimizers.Adam(lr=1e-3)\n",
    "\n",
    "# # Compile Model\n",
    "# model.compile(\n",
    "#     loss=tf.keras.losses.Huber(),\n",
    "#     metrics=[tf.metrics.RootMeanSquaredError(),'mae'],\n",
    "#     optimizer=optimizer)\n",
    "\n",
    "# # Train model\n",
    "# history = model.fit(\n",
    "#     X_train,y_train,\n",
    "#     validation_data=(X_validate,y_validate),\n",
    "#     epochs=100)\n",
    "# model.summary()"
   ]
  },
  {
   "cell_type": "code",
   "execution_count": null,
   "id": "8d863757",
   "metadata": {
    "execution": {
     "iopub.execute_input": "2022-11-07T17:23:50.681606Z",
     "iopub.status.busy": "2022-11-07T17:23:50.680873Z",
     "iopub.status.idle": "2022-11-07T17:23:51.115040Z",
     "shell.execute_reply": "2022-11-07T17:23:51.113861Z"
    },
    "papermill": {
     "duration": 0.485966,
     "end_time": "2022-11-07T17:23:51.117348",
     "exception": false,
     "start_time": "2022-11-07T17:23:50.631382",
     "status": "completed"
    },
    "tags": []
   },
   "outputs": [],
   "source": [
    "# plt.figure(figsize=(20,5))\n",
    "# plt.subplot(1,2,1)\n",
    "# plt.plot(history.history['loss'])\n",
    "# plt.plot(history.history['val_loss'])\n",
    "# plt.xlabel('Epoch')\n",
    "# plt.ylabel('Loss')\n",
    "# plt.legend(['Training','Validation'])\n",
    "# plt.title('Huber Loss: Training and Validation')\n",
    "# plt.subplot(1,2,2)\n",
    "# plt.plot(history.history['root_mean_squared_error'])\n",
    "# plt.plot(history.history['val_root_mean_squared_error'])\n",
    "# plt.xlabel('Epoch')\n",
    "# plt.ylabel('Loss')\n",
    "# plt.legend(['Training','Validation'])\n",
    "# plt.title('RMSE Loss: Training and Validation')"
   ]
  },
  {
   "cell_type": "code",
   "execution_count": null,
   "id": "ecafde6f",
   "metadata": {
    "execution": {
     "iopub.execute_input": "2022-11-07T17:23:51.222140Z",
     "iopub.status.busy": "2022-11-07T17:23:51.220592Z",
     "iopub.status.idle": "2022-11-07T17:23:51.342712Z",
     "shell.execute_reply": "2022-11-07T17:23:51.341788Z"
    },
    "papermill": {
     "duration": 0.175687,
     "end_time": "2022-11-07T17:23:51.344787",
     "exception": false,
     "start_time": "2022-11-07T17:23:51.169100",
     "status": "completed"
    },
    "tags": []
   },
   "outputs": [],
   "source": [
    "model = load_model('model_rnn')\n",
    "model.summary()"
   ]
  },
  {
   "cell_type": "markdown",
   "id": "238ece8e",
   "metadata": {},
   "source": [
    "# Unscaling data and return data into original shape"
   ]
  },
  {
   "cell_type": "code",
   "execution_count": null,
   "id": "413c70d2",
   "metadata": {},
   "outputs": [],
   "source": [
    "def prediction_by_step_by_company(raw_model_output, n_stocks):\n",
    "    \"\"\"\n",
    "    This function reshape the output dims from (n_periods*horizon,n_stocks) -> (n_stocks, n_periods, horizon)\n",
    "    => turn the output in form of each stock prices for the whole period \n",
    "    \"\"\"\n",
    "    matrix_prediction = []\n",
    "    for i in range(0,n_stocks):\n",
    "        matrix_prediction.append([[lista[j] for j in range(i,len(lista),n_stocks)] for lista in raw_model_output])\n",
    "    return np.array(matrix_prediction)"
   ]
  },
  {
   "cell_type": "code",
   "execution_count": null,
   "id": "ed1f31a7",
   "metadata": {},
   "outputs": [],
   "source": [
    "X_full, void = WindowGenerator(full_feature_df, lookback = lookback, horizon = horizon, jump = horizon) "
   ]
  },
  {
   "cell_type": "code",
   "execution_count": null,
   "id": "599b7d4a",
   "metadata": {},
   "outputs": [],
   "source": [
    "X_full.shape"
   ]
  },
  {
   "cell_type": "code",
   "execution_count": null,
   "id": "be321d0f",
   "metadata": {},
   "outputs": [],
   "source": [
    "y_pred = model.predict(X_full)"
   ]
  },
  {
   "cell_type": "code",
   "execution_count": null,
   "id": "b786973e",
   "metadata": {},
   "outputs": [],
   "source": [
    "y_pred = scl_y.inverse_transform(y_pred)\n",
    "y_pred.shape"
   ]
  },
  {
   "cell_type": "code",
   "execution_count": null,
   "id": "50cd6899",
   "metadata": {},
   "outputs": [],
   "source": [
    "predict_temp = prediction_by_step_by_company(y_pred, n_stocks)\n",
    "predict_temp.shape"
   ]
  },
  {
   "cell_type": "markdown",
   "id": "aadb894d",
   "metadata": {},
   "source": [
    "# Predicted stock prices"
   ]
  },
  {
   "cell_type": "code",
   "execution_count": null,
   "id": "c5db2eee",
   "metadata": {},
   "outputs": [],
   "source": [
    "#turn 3d array into 2d arrays\n",
    "predicted_prices = np.zeros((predict_temp.shape[1]*predict_temp.shape[2],predict_temp.shape[0]))\n",
    "\n",
    "#turn 2d array into form that is similar to the original dataframe of closing prices\n",
    "for i in range(predict_temp.shape[0]):\n",
    "    counter = 0\n",
    "    for j in range(predict_temp.shape[1]):\n",
    "        for z in range(predict_temp.shape[2]):\n",
    "            predicted_prices[counter, i] = predict_temp[i,j,z]\n",
    "            counter+=1"
   ]
  },
  {
   "cell_type": "code",
   "execution_count": null,
   "id": "a509d21b",
   "metadata": {},
   "outputs": [],
   "source": [
    "predicted_prices.shape"
   ]
  },
  {
   "cell_type": "code",
   "execution_count": null,
   "id": "9cdbfa31",
   "metadata": {},
   "outputs": [],
   "source": [
    "predicted_prices = pd.DataFrame(data = predicted_prices,columns=tickers, index = dates_new[20:])"
   ]
  },
  {
   "cell_type": "code",
   "execution_count": null,
   "id": "3af2dc2f",
   "metadata": {},
   "outputs": [],
   "source": [
    "actual_prices = df_close.loc[dates_new][20:]"
   ]
  },
  {
   "cell_type": "code",
   "execution_count": null,
   "id": "fbc70ed1",
   "metadata": {},
   "outputs": [],
   "source": [
    "# actual_prices.to_csv('actual_prices_1.csv')\n",
    "# predicted_prices.to_csv('predicted_prices_1.csv')"
   ]
  }
 ],
 "metadata": {
  "kernelspec": {
   "display_name": "Python 3 (ipykernel)",
   "language": "python",
   "name": "python3"
  },
  "language_info": {
   "codemirror_mode": {
    "name": "ipython",
    "version": 3
   },
   "file_extension": ".py",
   "mimetype": "text/x-python",
   "name": "python",
   "nbconvert_exporter": "python",
   "pygments_lexer": "ipython3",
   "version": "3.9.12"
  },
  "papermill": {
   "default_parameters": {},
   "duration": 122.223399,
   "end_time": "2022-11-07T17:24:04.804813",
   "environment_variables": {},
   "exception": null,
   "input_path": "__notebook__.ipynb",
   "output_path": "__notebook__.ipynb",
   "parameters": {},
   "start_time": "2022-11-07T17:22:02.581414",
   "version": "2.3.4"
  }
 },
 "nbformat": 4,
 "nbformat_minor": 5
}
